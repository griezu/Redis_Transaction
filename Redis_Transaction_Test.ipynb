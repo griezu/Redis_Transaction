{
 "cells": [
  {
   "attachments": {},
   "cell_type": "markdown",
   "metadata": {},
   "source": [
    "## Notebook Redis\n",
    "\n",
    "- Riezu, German\n",
    "\n",
    "This notebook is based on the Redis tutorial that you can find on: https://realpython.com/python-redis/"
   ]
  },
  {
   "cell_type": "markdown",
   "metadata": {},
   "source": [
    "<b>You will need to set up a Redis server. You can clone the Redis github and execute the redis-server file. You will have to change the server password to \"test\" so that it works directly. If you don't want to change it you can also modify the Redis object down below deleting the \"password = 'test\" argument.</b>"
   ]
  },
  {
   "cell_type": "markdown",
   "metadata": {},
   "source": [
    "D'abord on va tester comment faire pour communiquer REDIS avec un client qui n'est pas controlé par la ligne de commandes et, par example, écrit en Python en utilisant des APIS. Il faut que le serveur soit configuré avec un mot de pas = \"test\""
   ]
  },
  {
   "cell_type": "code",
   "execution_count": null,
   "metadata": {},
   "outputs": [],
   "source": [
    "!pip install redis"
   ]
  },
  {
   "cell_type": "code",
   "execution_count": 2,
   "metadata": {},
   "outputs": [
    {
     "data": {
      "text/plain": [
       "'Nassau'"
      ]
     },
     "execution_count": 2,
     "metadata": {},
     "output_type": "execute_result"
    }
   ],
   "source": [
    "import redis   #importer la bibliotheque\n",
    "#On crée un client redis sur la machine locale, sur la porte 6379(default) et qui utilise \"test\" comme mot de pas\n",
    "r = redis.Redis(host='localhost',\n",
    "                port=6379, \n",
    "                password = 'test')\n",
    "\n",
    "#Pour tester on va introduire dans REDIS deux élements clé-valeur et on va à demander la valeur de la clé Bahamas\n",
    "r.mset({\"Croatia\": \"Zagreb\", \"Bahamas\": \"Nassau\"})\n",
    "r.get(\"Bahamas\").decode(\"utf-8\")"
   ]
  },
  {
   "cell_type": "markdown",
   "metadata": {},
   "source": [
    "REDIS est très utilisé car il est capable de faire beaucoup de transactions SET/GET très rapidement et donc on va le tester."
   ]
  },
  {
   "cell_type": "code",
   "execution_count": 3,
   "metadata": {},
   "outputs": [],
   "source": [
    "a=1\n",
    "b=2\n",
    "c=3\n",
    "d=4\n",
    "e=5"
   ]
  },
  {
   "cell_type": "code",
   "execution_count": 11,
   "metadata": {
    "scrolled": true
   },
   "outputs": [
    {
     "name": "stdout",
     "output_type": "stream",
     "text": [
      "554 µs ± 20.3 µs per loop (mean ± std. dev. of 7 runs, 1000 loops each)\n"
     ]
    }
   ],
   "source": [
    "%%timeit\n",
    "r.set(a,a)\n",
    "r.set(b,b)\n",
    "r.set(c,c)\n",
    "r.set(d,d)\n",
    "r.set(e,e)"
   ]
  },
  {
   "cell_type": "code",
   "execution_count": 13,
   "metadata": {},
   "outputs": [],
   "source": [
    "dictTest ={a:a,b:b,c:c,d:d,e:e}"
   ]
  },
  {
   "cell_type": "code",
   "execution_count": 14,
   "metadata": {},
   "outputs": [
    {
     "name": "stdout",
     "output_type": "stream",
     "text": [
      "127 µs ± 567 ns per loop (mean ± std. dev. of 7 runs, 10000 loops each)\n"
     ]
    }
   ],
   "source": [
    "%%timeit\n",
    "r.mset(dictTest)"
   ]
  },
  {
   "cell_type": "code",
   "execution_count": 2,
   "metadata": {},
   "outputs": [],
   "source": [
    "d = {i:i for i in range(10000)}"
   ]
  },
  {
   "cell_type": "code",
   "execution_count": 3,
   "metadata": {},
   "outputs": [
    {
     "name": "stdout",
     "output_type": "stream",
     "text": [
      "64.9 ms ± 5.6 ms per loop (mean ± std. dev. of 7 runs, 10 loops each)\n"
     ]
    }
   ],
   "source": [
    "%%timeit #avec le pipelining on pourrait le faire plus rapidement\n",
    "r.mset(d)"
   ]
  },
  {
   "cell_type": "code",
   "execution_count": 17,
   "metadata": {},
   "outputs": [
    {
     "data": {
      "text/plain": [
       "True"
      ]
     },
     "execution_count": 17,
     "metadata": {},
     "output_type": "execute_result"
    }
   ],
   "source": [
    "r.flushall()  #On éfface toute le data qu'on avait sur tous(15) les databases REDIS"
   ]
  },
  {
   "cell_type": "markdown",
   "metadata": {},
   "source": [
    "On va créer trois élements hash qui corréspondent à trois modèles de chapeaux différents. Chaque structure a les mêmes champs qui décrivent l'état de chaque chapeau.  "
   ]
  },
  {
   "cell_type": "code",
   "execution_count": 18,
   "metadata": {},
   "outputs": [],
   "source": [
    "import random\n",
    "\n",
    "random.seed(444)\n",
    "hats = {f\"hat:{random.getrandbits(32)}\": i for i in (\n",
    "    {\n",
    "        \"color\": \"black\",\n",
    "        \"price\": 49.99,\n",
    "        \"style\": \"fitted\",\n",
    "        \"quantity\": 1000,\n",
    "        \"npurchased\": 0,\n",
    "    },\n",
    "    {\n",
    "        \"color\": \"maroon\",\n",
    "        \"price\": 59.99,\n",
    "        \"style\": \"hipster\",\n",
    "        \"quantity\": 500,\n",
    "        \"npurchased\": 0,\n",
    "    },\n",
    "    {\n",
    "        \"color\": \"green\",\n",
    "        \"price\": 99.99,\n",
    "        \"style\": \"baseball\",\n",
    "        \"quantity\": 200,\n",
    "        \"npurchased\": 0,\n",
    "    })\n",
    "}"
   ]
  },
  {
   "cell_type": "markdown",
   "metadata": {},
   "source": [
    "Pipelining est une méthode qui permet d'envoyer plusieurs commands au même temps pour reduire le temps totale. Dans la cell suivante, on va mettre le dictionaire que l'on a mis dans la dernière cell."
   ]
  },
  {
   "cell_type": "code",
   "execution_count": 20,
   "metadata": {},
   "outputs": [],
   "source": [
    "with r.pipeline() as pipe:\n",
    "    for h_id, hat in hats.items():\n",
    "        pipe.hmset(h_id, hat)\n",
    "    pipe.execute()"
   ]
  },
  {
   "cell_type": "code",
   "execution_count": 7,
   "metadata": {
    "scrolled": false
   },
   "outputs": [
    {
     "data": {
      "text/plain": [
       "[b'hat:56854717', b'hat:1236154736', b'hat:1326692461']"
      ]
     },
     "execution_count": 7,
     "metadata": {},
     "output_type": "execute_result"
    }
   ],
   "source": [
    "r.keys()"
   ]
  },
  {
   "cell_type": "code",
   "execution_count": 8,
   "metadata": {},
   "outputs": [],
   "source": [
    "import logging\n",
    "\n",
    "logging.basicConfig()\n",
    "\n",
    "class OutOfStockError(Exception):\n",
    "\n",
    "def purchaseItem(client, itemid: int,itemsBought) -> None:\n",
    "    with client.pipeline() as pipe:\n",
    "        error_count = 0\n",
    "        while True:\n",
    "            try:\n",
    "                # Voir ce qu'on a en stock               \n",
    "                pipe.watch(itemid)\n",
    "                nleft: bytes = client.hget(itemid, \"quantity\") \n",
    "                if int(nleft.decode(\"utf-8\")) >= itemsBought:  #Comparation items qui restent et items achetés\n",
    "                    pipe.multi()\n",
    "                    pipe.hincrby(itemid, \"quantity\", -itemsBought)  #mise à jour\n",
    "                    pipe.hincrby(itemid, \"npurchased\", itemsBought)\n",
    "                    pipe.execute()\n",
    "                    break\n",
    "                else:\n",
    "                   \n",
    "                    pipe.unwatch()\n",
    "                    raise OutOfStockError(\n",
    "                        f\"Sorry, {itemid} is out of stock!\"\n",
    "                    )\n",
    "            except redis.WatchError:\n",
    "                #Log le nombre d'erreurs\n",
    "                error_count += 1\n",
    "                logging.warning(\n",
    "                    \"WatchError #%d: %s; retrying\",\n",
    "                    error_count, itemid\n",
    "                )\n",
    "    return client.hgetall(itemid)"
   ]
  },
  {
   "cell_type": "markdown",
   "metadata": {},
   "source": [
    "A nous de jouer et voir comment ça réagit:"
   ]
  },
  {
   "cell_type": "code",
   "execution_count": 21,
   "metadata": {},
   "outputs": [
    {
     "data": {
      "text/plain": [
       "{b'color': b'black',\n",
       " b'price': b'49.99',\n",
       " b'style': b'fitted',\n",
       " b'quantity': b'999',\n",
       " b'npurchased': b'1'}"
      ]
     },
     "execution_count": 21,
     "metadata": {},
     "output_type": "execute_result"
    }
   ],
   "source": [
    "purchaseItem(r,b'hat:1326692461',1)"
   ]
  }
 ],
 "metadata": {
  "kernelspec": {
   "display_name": "Python (machineLearning)",
   "language": "python",
   "name": "machinelearning"
  },
  "language_info": {
   "codemirror_mode": {
    "name": "ipython",
    "version": 3
   },
   "file_extension": ".py",
   "mimetype": "text/x-python",
   "name": "python",
   "nbconvert_exporter": "python",
   "pygments_lexer": "ipython3",
   "version": "3.7.5"
  }
 },
 "nbformat": 4,
 "nbformat_minor": 2
}
